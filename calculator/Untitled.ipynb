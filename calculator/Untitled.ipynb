{
 "cells": [
  {
   "cell_type": "code",
   "execution_count": 2,
   "id": "ee8b6ada-fd84-4388-b9d3-d79e85dd1031",
   "metadata": {},
   "outputs": [
    {
     "ename": "SyntaxError",
     "evalue": "'(' was never closed (2978693990.py, line 4)",
     "output_type": "error",
     "traceback": [
      "\u001b[1;36m  Cell \u001b[1;32mIn[2], line 4\u001b[1;36m\u001b[0m\n\u001b[1;33m    n2 = float(input(\"enter second nmumber here\")\u001b[0m\n\u001b[1;37m              ^\u001b[0m\n\u001b[1;31mSyntaxError\u001b[0m\u001b[1;31m:\u001b[0m '(' was never closed\n"
     ]
    }
   ],
   "source": [
    "#Simple Calculator using python\n",
    "print(\"CALCULATOR\")\n",
    "n1 = float(input(\"enter first number here\"))\n",
    "n2 = float(input(\"enter second nmumber here\"))\n",
    "\n",
    "print(\"1.addition\")\n",
    "print(\"2.multiplication\")\n",
    "print(\"3.division\")\n",
    "print(\"4.substraction\")\n",
    "print(\"5.mod\")\n",
    "\n",
    "ch=int(input(\"enter your choice from 1-5\"))\n",
    "\n",
    "if ch==1:\n",
    "    print(n1+n2)\n",
    "elif ch==2:\n",
    "    print(n1*n2)\n",
    "elif ch==3:\n",
    "    print(n1/n2)\n",
    "elif ch==4:\n",
    "    print(n1-n2)\n",
    "elif ch==5:\n",
    "    print(n1%n2)\n",
    "else:\n",
    "    print(\"error\")"
   ]
  },
  {
   "cell_type": "code",
   "execution_count": null,
   "id": "6b01da01-3cb3-4def-bb92-96e7559a5ef1",
   "metadata": {},
   "outputs": [],
   "source": []
  }
 ],
 "metadata": {
  "kernelspec": {
   "display_name": "Python 3 (ipykernel)",
   "language": "python",
   "name": "python3"
  },
  "language_info": {
   "codemirror_mode": {
    "name": "ipython",
    "version": 3
   },
   "file_extension": ".py",
   "mimetype": "text/x-python",
   "name": "python",
   "nbconvert_exporter": "python",
   "pygments_lexer": "ipython3",
   "version": "3.11.7"
  }
 },
 "nbformat": 4,
 "nbformat_minor": 5
}
